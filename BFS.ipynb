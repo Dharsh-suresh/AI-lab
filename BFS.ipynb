{
 "cells": [
  {
   "cell_type": "code",
   "execution_count": 4,
   "id": "539e50e7-827a-4816-92fe-43499301e946",
   "metadata": {},
   "outputs": [
    {
     "name": "stdout",
     "output_type": "stream",
     "text": [
      "Following is Breadth First Traversal (starting from vertex 2):\n",
      "2 0 3 1 "
     ]
    }
   ],
   "source": [
    "from collections import defaultdict\n",
    "\n",
    "class Graph:\n",
    "    # Constructor\n",
    "    def __init__(self):  # Fixed the constructor name\n",
    "        self.graph = defaultdict(list)\n",
    "    \n",
    "    # Function to add an edge to graph\n",
    "    def addEdge(self, u, v):\n",
    "        self.graph[u].append(v)\n",
    "\n",
    "    # Function to print a BFS of graph\n",
    "    def BFS(self, s):\n",
    "        visited = []  # Reinitialize visited list at each BFS call\n",
    "        queue = []  # Create a queue for BFS\n",
    "        \n",
    "        queue.append(s)\n",
    "        visited.append(s)\n",
    "\n",
    "        while queue:\n",
    "            s = queue.pop(0)\n",
    "            print(s, end=\" \")\n",
    "\n",
    "            for i in self.graph[s]:\n",
    "                if i not in visited:\n",
    "                    queue.append(i)\n",
    "                    visited.append(i)\n",
    "\n",
    "# Driver code\n",
    "g = Graph()\n",
    "g.addEdge(0, 1)\n",
    "g.addEdge(0, 2)\n",
    "g.addEdge(1, 2)\n",
    "g.addEdge(2, 0)\n",
    "g.addEdge(2, 3)\n",
    "g.addEdge(3, 3)\n",
    "\n",
    "print(\"Following is Breadth First Traversal (starting from vertex 2):\")\n",
    "g.BFS(2)\n"
   ]
  },
  {
   "cell_type": "code",
   "execution_count": null,
   "id": "927bff44-b13f-4125-a3f3-f84bd5c5d25c",
   "metadata": {},
   "outputs": [],
   "source": []
  }
 ],
 "metadata": {
  "kernelspec": {
   "display_name": "Python [conda env:base] *",
   "language": "python",
   "name": "conda-base-py"
  },
  "language_info": {
   "codemirror_mode": {
    "name": "ipython",
    "version": 3
   },
   "file_extension": ".py",
   "mimetype": "text/x-python",
   "name": "python",
   "nbconvert_exporter": "python",
   "pygments_lexer": "ipython3",
   "version": "3.12.7"
  }
 },
 "nbformat": 4,
 "nbformat_minor": 5
}
