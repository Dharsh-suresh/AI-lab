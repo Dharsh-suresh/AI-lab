{
 "cells": [
  {
   "cell_type": "code",
   "execution_count": 6,
   "id": "02e87dbd-6545-4f41-bd32-26e0ea04bc44",
   "metadata": {},
   "outputs": [
    {
     "name": "stdout",
     "output_type": "stream",
     "text": [
      "Path found: ['A', 'F', 'G', 'I', 'J']\n"
     ]
    },
    {
     "data": {
      "text/plain": [
       "['A', 'F', 'G', 'I', 'J']"
      ]
     },
     "execution_count": 6,
     "metadata": {},
     "output_type": "execute_result"
    }
   ],
   "source": [
    "import heapq\n",
    "\n",
    "def heuristic(n):\n",
    "    H_dist = {\n",
    "        'A': 11, 'B': 6, 'C': 5, 'D': 7, 'E': 3,\n",
    "        'F': 6, 'G': 5, 'H': 3, 'I': 1, 'J': 0\n",
    "    }\n",
    "    return H_dist.get(n, float('inf'))  # Default to a large value if missing\n",
    "\n",
    "def get_neighbors(node):\n",
    "    return Graph_nodes.get(node, [])\n",
    "\n",
    "def memory_bounded_a_star(start_node, stop_node, memory_limit):\n",
    "    open_set = []  # Priority queue for nodes to explore\n",
    "    closed_set = set()  # Set of explored nodes\n",
    "    g = {start_node: 0}  # Cost from start to each node\n",
    "    parents = {start_node: start_node}  # Path reconstruction\n",
    "    f_cost = {start_node: g[start_node] + heuristic(start_node)}  # A* cost function\n",
    "\n",
    "    heapq.heappush(open_set, (f_cost[start_node], start_node))\n",
    "\n",
    "    while open_set:\n",
    "        # Enforce memory limit by keeping only the best paths\n",
    "        if len(g) > memory_limit:\n",
    "            print(\"Memory limit exceeded. Stopping search.\")\n",
    "            break\n",
    "\n",
    "        _, n = heapq.heappop(open_set)\n",
    "\n",
    "        if n == stop_node:  # Goal reached\n",
    "            path = []\n",
    "            while parents[n] != n:\n",
    "                path.append(n)\n",
    "                n = parents[n]\n",
    "            path.append(start_node)\n",
    "            path.reverse()\n",
    "            print(\"Path found:\", path)\n",
    "            return path\n",
    "\n",
    "        closed_set.add(n)\n",
    "\n",
    "        for (m, weight) in get_neighbors(n):\n",
    "            if m in closed_set:\n",
    "                continue  # Ignore already explored nodes\n",
    "\n",
    "            new_g = g[n] + weight\n",
    "\n",
    "            if m not in g or new_g < g[m]:  # Found a better path\n",
    "                g[m] = new_g\n",
    "                parents[m] = n\n",
    "                f_cost[m] = g[m] + heuristic(m)\n",
    "\n",
    "                heapq.heappush(open_set, (f_cost[m], m))\n",
    "\n",
    "    print(\"Path does not exist within the memory limit.\")\n",
    "    return None\n",
    "\n",
    "# Graph representation\n",
    "Graph_nodes = {\n",
    "    'A': [('B', 6), ('F', 3)],\n",
    "    'B': [('A', 6), ('C', 3), ('D', 2)],\n",
    "    'C': [('B', 3), ('D', 1), ('E', 5)],\n",
    "    'D': [('B', 2), ('C', 1), ('E', 8)],\n",
    "    'E': [('C', 5), ('D', 8), ('I', 5), ('J', 5)],\n",
    "    'F': [('A', 3), ('G', 1), ('H', 7)],\n",
    "    'G': [('F', 1), ('I', 3)],\n",
    "    'H': [('F', 7), ('I', 2)],\n",
    "    'I': [('E', 5), ('G', 3), ('H', 2), ('J', 3)],\n",
    "    'J': []  # Ensure J exists in the graph\n",
    "}\n",
    "\n",
    "# Running Memory-Bounded A* Search\n",
    "memory_bounded_a_star('A', 'J', memory_limit=10)\n"
   ]
  },
  {
   "cell_type": "code",
   "execution_count": null,
   "id": "4b08ab22-d1fe-49dd-8561-dfc176c3c8b3",
   "metadata": {},
   "outputs": [],
   "source": []
  }
 ],
 "metadata": {
  "kernelspec": {
   "display_name": "Python [conda env:base] *",
   "language": "python",
   "name": "conda-base-py"
  },
  "language_info": {
   "codemirror_mode": {
    "name": "ipython",
    "version": 3
   },
   "file_extension": ".py",
   "mimetype": "text/x-python",
   "name": "python",
   "nbconvert_exporter": "python",
   "pygments_lexer": "ipython3",
   "version": "3.12.7"
  }
 },
 "nbformat": 4,
 "nbformat_minor": 5
}
