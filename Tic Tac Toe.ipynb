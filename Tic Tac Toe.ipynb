{
 "cells": [
  {
   "cell_type": "code",
   "execution_count": 2,
   "id": "73898b72-29fa-49ba-987d-2be1a36f4585",
   "metadata": {},
   "outputs": [
    {
     "name": "stdout",
     "output_type": "stream",
     "text": [
      "Initial Board:\n",
      " [[0 0 0]\n",
      " [0 0 0]\n",
      " [0 0 0]]\n",
      "Board after move 1 by Player 1:\n",
      " [[0 0 0]\n",
      " [1 0 0]\n",
      " [0 0 0]]\n",
      "Board after move 2 by Player 2:\n",
      " [[0 2 0]\n",
      " [1 0 0]\n",
      " [0 0 0]]\n",
      "Board after move 3 by Player 1:\n",
      " [[0 2 0]\n",
      " [1 0 0]\n",
      " [0 1 0]]\n",
      "Board after move 4 by Player 2:\n",
      " [[0 2 0]\n",
      " [1 2 0]\n",
      " [0 1 0]]\n",
      "Board after move 5 by Player 1:\n",
      " [[0 2 0]\n",
      " [1 2 1]\n",
      " [0 1 0]]\n",
      "Board after move 6 by Player 2:\n",
      " [[0 2 0]\n",
      " [1 2 1]\n",
      " [0 1 2]]\n",
      "Board after move 7 by Player 1:\n",
      " [[1 2 0]\n",
      " [1 2 1]\n",
      " [0 1 2]]\n",
      "Board after move 8 by Player 2:\n",
      " [[1 2 2]\n",
      " [1 2 1]\n",
      " [0 1 2]]\n",
      "Board after move 9 by Player 1:\n",
      " [[1 2 2]\n",
      " [1 2 1]\n",
      " [1 1 2]]\n",
      "Winner is Player 1!\n"
     ]
    },
    {
     "data": {
      "text/plain": [
       "1"
      ]
     },
     "execution_count": 2,
     "metadata": {},
     "output_type": "execute_result"
    }
   ],
   "source": [
    "import numpy as np\n",
    "import random\n",
    "from time import sleep\n",
    "def create_board():\n",
    "    return np.zeros((3, 3), dtype=int)\n",
    "def possibilities(board):\n",
    "    return [(i, j) for i in range(3) for j in range(3) if board[i, j] == 0]\n",
    "def random_place(board, player):\n",
    "    selection = possibilities(board)\n",
    "    if selection:\n",
    "        current_loc = random.choice(selection)\n",
    "        board[current_loc[0], current_loc[1]] = player\n",
    "    return board\n",
    "def check_win(board, player):\n",
    "    return (\n",
    "        np.any(np.all(board == player, axis=0)) or  # Check columns\n",
    "        np.any(np.all(board == player, axis=1)) or  # Check rows\n",
    "        np.all(np.diag(board) == player) or  # Check main diagonal\n",
    "        np.all(np.diag(np.fliplr(board)) == player)  # Check secondary diagonal\n",
    "    )\n",
    "def evaluate(board):\n",
    "    for player in [1, 2]:\n",
    "        if check_win(board, player):\n",
    "            return player  # Return winning player\n",
    "    return -1 if np.all(board != 0) else 0  # -1 for draw, 0 for ongoing game\n",
    "def play_game():\n",
    "    board, winner, counter = create_board(), 0, 1\n",
    "    print(\"Initial Board:\\n\", board)\n",
    "    sleep(2)\n",
    "    while winner == 0:\n",
    "        for player in [1, 2]:\n",
    "            board = random_place(board, player)\n",
    "            print(f\"Board after move {counter} by Player {player}:\\n\", board)\n",
    "            sleep(2)\n",
    "            counter += 1\n",
    "            winner = evaluate(board)\n",
    "            if winner != 0:\n",
    "                break\n",
    "    if winner == -1:\n",
    "        print(\"Game ended in a draw!\")\n",
    "    else:\n",
    "        print(f\"Winner is Player {winner}!\")\n",
    "    return winner\n",
    "# Driver Code\n",
    "play_game()\n"
   ]
  },
  {
   "cell_type": "code",
   "execution_count": null,
   "id": "ec3ee906-34c8-44fe-bde4-b3c0646be022",
   "metadata": {},
   "outputs": [],
   "source": []
  }
 ],
 "metadata": {
  "kernelspec": {
   "display_name": "Python [conda env:base] *",
   "language": "python",
   "name": "conda-base-py"
  },
  "language_info": {
   "codemirror_mode": {
    "name": "ipython",
    "version": 3
   },
   "file_extension": ".py",
   "mimetype": "text/x-python",
   "name": "python",
   "nbconvert_exporter": "python",
   "pygments_lexer": "ipython3",
   "version": "3.12.7"
  }
 },
 "nbformat": 4,
 "nbformat_minor": 5
}
